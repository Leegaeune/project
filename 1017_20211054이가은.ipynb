{
  "nbformat": 4,
  "nbformat_minor": 0,
  "metadata": {
    "colab": {
      "provenance": [],
      "authorship_tag": "ABX9TyMsXjlh5sXVbP8N6tF5smZ5",
      "include_colab_link": true
    },
    "kernelspec": {
      "name": "python3",
      "display_name": "Python 3"
    },
    "language_info": {
      "name": "python"
    }
  },
  "cells": [
    {
      "cell_type": "markdown",
      "metadata": {
        "id": "view-in-github",
        "colab_type": "text"
      },
      "source": [
        "<a href=\"https://colab.research.google.com/github/Leegaeune/project/blob/main/1017_20211054%EC%9D%B4%EA%B0%80%EC%9D%80.ipynb\" target=\"_parent\"><img src=\"https://colab.research.google.com/assets/colab-badge.svg\" alt=\"Open In Colab\"/></a>"
      ]
    },
    {
      "cell_type": "code",
      "execution_count": null,
      "metadata": {
        "id": "hod3MqWI3Bg-"
      },
      "outputs": [],
      "source": [
        "def sigma(i):\n",
        "  sum = 0\n",
        "  for x in range(1, i+1):\n",
        "    sum += i\n",
        "  return sum\n",
        "\n",
        "  def sigma(n):\n",
        "    if n > 0:\n",
        "        return sigma(n-1) + n\n",
        "    else:\n",
        "        return 0"
      ]
    },
    {
      "cell_type": "code",
      "source": [
        "def sigma(i):\n",
        "  if n == 0:\n",
        "    return 0\n",
        "  else:\n",
        "    return i + sigma(i-1)"
      ],
      "metadata": {
        "id": "gEboNQe25JDA"
      },
      "execution_count": null,
      "outputs": []
    },
    {
      "cell_type": "code",
      "source": [
        "#재귀 (하향식)\n",
        "def sigma(n):\n",
        "  if n > 0:\n",
        "    return sigma(n-1) + n\n",
        "  if n == 0 :\n",
        "    return 0\n",
        "  print(sigma(100))"
      ],
      "metadata": {
        "id": "S0Cyv55b5uwZ"
      },
      "execution_count": null,
      "outputs": []
    },
    {
      "cell_type": "code",
      "source": [
        "#꼬리재귀 (상향식)\n",
        "\n",
        "def sigma(n):\n",
        "    return loop(n, 0)\n",
        "\n",
        "def loop(n, total):\n",
        "    if n > 0:\n",
        "        return loop(n-1, n+total)\n",
        "    else:\n",
        "        return total"
      ],
      "metadata": {
        "id": "8w0Spa6S7_1J"
      },
      "execution_count": null,
      "outputs": []
    },
    {
      "cell_type": "code",
      "source": [
        "#꼬리재귀 while (상향식)\n",
        "def sigma(n):\n",
        "    n, total = n, 0\n",
        "    while n > 0:\n",
        "        n ,total = n-1, n+total\n",
        "    return total"
      ],
      "metadata": {
        "id": "K8z2xYu69EZA"
      },
      "execution_count": null,
      "outputs": []
    },
    {
      "cell_type": "markdown",
      "source": [
        "하향식으로 작동하는 재귀 함수는 실행 논리를 직관적으로 표현할 수 있어서\n",
        "코딩하기 쉬운 반면, 공간 효율이 떨어질 수 있다.\n",
        "상향식으로 작동하는 꼬리재귀 함수나 while 루프 버전로 변환하면 공간을\n",
        "절약할 수 있다.\n",
        "재귀 함수, 꼬리재귀 함수, while 문은 모두 구조적으로 연관이 있어서 상호\n",
        "기계적으로 변환할 수 있다.\n",
        "상대적으로 사고하기 쉬운 하향식으로 재귀 함수를 먼저 작성하고, 꼬리재귀\n",
        "와 while 루프로 차례로 변환하여 함수를 다듬는 것은 권장할만한 코딩 습관"
      ],
      "metadata": {
        "id": "XcisTljQBPsU"
      }
    },
    {
      "cell_type": "code",
      "source": [
        "#가우스 알고리즘\n",
        "def sigma(n):\n",
        "    return n*(n+1)//2"
      ],
      "metadata": {
        "id": "O3XWbKGiBTEa"
      },
      "execution_count": null,
      "outputs": []
    },
    {
      "cell_type": "code",
      "source": [
        "#순진무구 알고리즘(재귀)\n",
        "def power(b,n):\n",
        "  if n>0 :\n",
        "    return b*power(b,n-1)\n",
        "  if n <=0:\n",
        "    return 1\n",
        "\n",
        "print(power(2,5))"
      ],
      "metadata": {
        "colab": {
          "base_uri": "https://localhost:8080/"
        },
        "id": "i7REWZPCDu5T",
        "outputId": "634b2237-a51a-476b-f05d-d61e941137d2"
      },
      "execution_count": null,
      "outputs": [
        {
          "output_type": "execute_result",
          "data": {
            "text/plain": [
              "32"
            ]
          },
          "metadata": {},
          "execution_count": 5
        }
      ]
    },
    {
      "cell_type": "code",
      "source": [
        "#꼬리재귀\n",
        "def power(b,n):\n",
        "    def loop(b,n,prod):\n",
        "        if n > 0:\n",
        "            return loop(b,n-1,b*prod)\n",
        "        else:\n",
        "            return prod\n",
        "    return loop(b,n,1)\n",
        "\n"
      ],
      "metadata": {
        "id": "dD0Stn8QH0Yt"
      },
      "execution_count": null,
      "outputs": []
    },
    {
      "cell_type": "code",
      "source": [
        "def power(b,n):\n",
        "    def loop(n,prod):\n",
        "        if n > 0:\n",
        "            return loop(n-1,b*prod)\n",
        "        else:\n",
        "            return prod\n",
        "    return loop(n,1)\n",
        "\n",
        "print(power(2,5))"
      ],
      "metadata": {
        "colab": {
          "base_uri": "https://localhost:8080/"
        },
        "id": "dZHcdGvgHQIH",
        "outputId": "bf91d9ce-c4c0-441b-ceae-739fec31f0a9"
      },
      "execution_count": null,
      "outputs": [
        {
          "output_type": "stream",
          "name": "stdout",
          "text": [
            "32\n"
          ]
        }
      ]
    },
    {
      "cell_type": "code",
      "source": [
        "def power(b,n):\n",
        "    prod = 1\n",
        "    while n > 0:\n",
        "        prod = b * prod\n",
        "        n = n - 1\n",
        "    return prod"
      ],
      "metadata": {
        "id": "53moWoc-HeVO"
      },
      "execution_count": null,
      "outputs": []
    },
    {
      "cell_type": "code",
      "source": [
        "#나눠풀기 알고리즘\n",
        "def power(b,n):\n",
        "    if n > 0:\n",
        "        if n % 2 == 0:\n",
        "            return power(b*b,n//2)\n",
        "        else:\n",
        "            return b * power(b,n-1)\n",
        "    else:\n",
        "        return 1\n",
        "power(2,7)"
      ],
      "metadata": {
        "colab": {
          "base_uri": "https://localhost:8080/"
        },
        "id": "DWX5AuYQH2ie",
        "outputId": "57be4d37-c211-49e5-8f7c-d0b4e5530abd"
      },
      "execution_count": null,
      "outputs": [
        {
          "output_type": "execute_result",
          "data": {
            "text/plain": [
              "128"
            ]
          },
          "metadata": {},
          "execution_count": 8
        }
      ]
    },
    {
      "cell_type": "code",
      "source": [
        "#재귀함쉬의 계산비용 분석(꼬리)\n",
        "def power(b,n):\n",
        "    def loop(b,n,prod):\n",
        "        if n > 0:\n",
        "            if n % 2 == 0:\n",
        "                return loop(b*b,n//2,prod)\n",
        "            else:\n",
        "                return loop(b,n-1,b*prod)\n",
        "        else:\n",
        "            return prod\n",
        "    return loop(b,n,1)\n",
        "\n",
        "print(power(3,4))"
      ],
      "metadata": {
        "colab": {
          "base_uri": "https://localhost:8080/"
        },
        "id": "gdhpdDwqJbMX",
        "outputId": "a6e95b64-14a5-4e7f-d15f-c69852bc00fc"
      },
      "execution_count": null,
      "outputs": [
        {
          "output_type": "stream",
          "name": "stdout",
          "text": [
            "81\n"
          ]
        }
      ]
    },
    {
      "cell_type": "code",
      "source": [
        "\n",
        "def gcd(m,n):\n",
        "  if n != 0:\n",
        "    return gcd(n,m%n)\n",
        "  else:\n",
        "    return m\n",
        "\n",
        "print(gcd(12,24))"
      ],
      "metadata": {
        "colab": {
          "base_uri": "https://localhost:8080/"
        },
        "id": "5KA-uaDkJ4wj",
        "outputId": "ae89ae10-0d72-482b-9e45-0e9588035bb8"
      },
      "execution_count": null,
      "outputs": [
        {
          "output_type": "stream",
          "name": "stdout",
          "text": [
            "12\n"
          ]
        }
      ]
    },
    {
      "cell_type": "code",
      "source": [
        "#나눠풀기 알고리즘\n",
        "def even(n):\n",
        "    return n % 2 == 0\n",
        "\n",
        "def odd(n):\n",
        "    return n%2 == 1\n",
        "\n",
        "def gcd(m,n):\n",
        "    if not (m == 0 or n == 0):\n",
        "        if even(m) and even(n):\n",
        "            return 2 * gcd(m//2,n//2)\n",
        "        elif even(m) and odd(n):\n",
        "            return gcd(m//2,n)\n",
        "        elif odd(m) and even(n):\n",
        "            return gcd(m,n//2)\n",
        "        elif m <= n:\n",
        "            return gcd(m,(n-m)//2)\n",
        "        else:\n",
        "            return gcd(n,(m-n)//2)\n",
        "    else:\n",
        "        if m == 0:\n",
        "            return n\n",
        "        else:\n",
        "            return m\n",
        "\n",
        "gcd(18,48)"
      ],
      "metadata": {
        "colab": {
          "base_uri": "https://localhost:8080/"
        },
        "id": "BPtVNIUuPD7G",
        "outputId": "492e482b-fce7-4a54-e54f-435725c82295"
      },
      "execution_count": null,
      "outputs": [
        {
          "output_type": "execute_result",
          "data": {
            "text/plain": [
              "6"
            ]
          },
          "metadata": {},
          "execution_count": 14
        }
      ]
    },
    {
      "cell_type": "code",
      "source": [
        "#곱셈\n",
        "def mult(m,n):\n",
        "  if n>0 :\n",
        "    return m+mult(m,n-1)\n",
        "  else:\n",
        "    return 0\n",
        "\n",
        "print(mult(3,5))\n"
      ],
      "metadata": {
        "colab": {
          "base_uri": "https://localhost:8080/"
        },
        "id": "TjL9M6jKPqRu",
        "outputId": "5ff5a83f-c1e0-4a4f-c196-e9c5c6842b7e"
      },
      "execution_count": null,
      "outputs": [
        {
          "output_type": "stream",
          "name": "stdout",
          "text": [
            "15\n"
          ]
        }
      ]
    },
    {
      "cell_type": "code",
      "source": [
        "# 4장 연습문제 4.9\n",
        "#1. 재귀함수 사용\n",
        "def sigma2(n):\n",
        "    if n > 1:\n",
        "        if n % 2 == 0:\n",
        "            n = n // 2\n",
        "            return 2 * sigma2(n) + n * n\n",
        "        else:\n",
        "            return n + sigma2(n-1)\n",
        "    else:\n",
        "        return 1\n",
        "\n",
        "print(sigma2(13)) # 91\n",
        "print(sigma2(12)) # 78\n",
        "print(sigma2(11)) # 66\n",
        "print(sigma2(10)) # 55\n",
        "print(sigma2(9))  # 45\n",
        "print(sigma2(8))  # 36\n",
        "print(sigma2(7))  # 28\n",
        "print(sigma2(6))  # 21\n",
        "print(sigma2(5))  # 15\n",
        "print(sigma2(4))  # 10\n",
        "print(sigma2(3))  # 6\n",
        "print(sigma2(2))  # 3\n",
        "print(sigma2(1))  # 1\n",
        "print(sigma2(47733))    # 1139243511\n",
        "print(sigma2(37387282)) # 698904446367403\n",
        "#2. 꼬리 재귀함수 사용\n",
        "\n",
        "def sigma2(n):\n",
        "    def loop(n, m, acc):\n",
        "        if n > 1:\n",
        "            if n % 2 == 0:\n",
        "                n //= 2\n",
        "                return loop(n, m*2, acc+n*n*m)\n",
        "            else:\n",
        "                return loop(n-1, m, acc+n*m)\n",
        "        else:\n",
        "            return m + acc\n",
        "    return loop(n,1,0)\n",
        "print(sigma2(13)) # 91\n",
        "print(sigma2(12)) # 78\n",
        "print(sigma2(11)) # 66\n",
        "print(sigma2(10)) # 55\n",
        "print(sigma2(9))  # 45\n",
        "print(sigma2(8))  # 36\n",
        "print(sigma2(7))  # 28\n",
        "print(sigma2(6))  # 21\n",
        "print(sigma2(5))  # 15\n",
        "print(sigma2(4))  # 10\n",
        "print(sigma2(3))  # 6\n",
        "print(sigma2(2))  # 3\n",
        "print(sigma2(1))  # 1\n",
        "print(sigma2(47733))    # 1139243511\n",
        "print(sigma2(37387282)) # 698904446367403\n",
        "\n",
        "#3. while 루프 사용\n",
        "\n",
        "def sigma2(n):\n",
        "    m = 1\n",
        "    acc = 0\n",
        "    while n > 1:\n",
        "        if n % 2 == 0:\n",
        "            n //= 2\n",
        "            acc += n * n * m\n",
        "            m *= 2\n",
        "        else:\n",
        "            acc += n * m\n",
        "            n -= 1\n",
        "    return m + acc\n",
        "\n",
        "    print(sigma2(13)) # 91\n",
        "print(sigma2(12)) # 78\n",
        "print(sigma2(11)) # 66\n",
        "print(sigma2(10)) # 55\n",
        "print(sigma2(9))  # 45\n",
        "print(sigma2(8))  # 36\n",
        "print(sigma2(7))  # 28\n",
        "print(sigma2(6))  # 21\n",
        "print(sigma2(5))  # 15\n",
        "print(sigma2(4))  # 10\n",
        "print(sigma2(3))  # 6\n",
        "print(sigma2(2))  # 3\n",
        "print(sigma2(1))  # 1\n",
        "print(sigma2(47733))    # 1139243511\n",
        "print(sigma2(37387282)) # 698904446367403"
      ],
      "metadata": {
        "colab": {
          "base_uri": "https://localhost:8080/"
        },
        "id": "DYuWTSzaRlFC",
        "outputId": "6b9b9343-c6cb-46c8-810a-585d85cb3477"
      },
      "execution_count": null,
      "outputs": [
        {
          "output_type": "stream",
          "name": "stdout",
          "text": [
            "91\n",
            "78\n",
            "66\n",
            "55\n",
            "45\n",
            "36\n",
            "28\n",
            "21\n",
            "15\n",
            "10\n",
            "6\n",
            "3\n",
            "1\n",
            "1139243511\n",
            "698904446367403\n",
            "91\n",
            "78\n",
            "66\n",
            "55\n",
            "45\n",
            "36\n",
            "28\n",
            "21\n",
            "15\n",
            "10\n",
            "6\n",
            "3\n",
            "1\n",
            "1139243511\n",
            "698904446367403\n",
            "78\n",
            "66\n",
            "55\n",
            "45\n",
            "36\n",
            "28\n",
            "21\n",
            "15\n",
            "10\n",
            "6\n",
            "3\n",
            "1\n",
            "1139243511\n",
            "698904446367403\n"
          ]
        }
      ]
    }
  ]
}