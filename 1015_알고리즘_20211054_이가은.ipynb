{
  "nbformat": 4,
  "nbformat_minor": 0,
  "metadata": {
    "colab": {
      "provenance": [],
      "authorship_tag": "ABX9TyPJTVcV999DX3LixQFDbD5i",
      "include_colab_link": true
    },
    "kernelspec": {
      "name": "python3",
      "display_name": "Python 3"
    },
    "language_info": {
      "name": "python"
    }
  },
  "cells": [
    {
      "cell_type": "markdown",
      "metadata": {
        "id": "view-in-github",
        "colab_type": "text"
      },
      "source": [
        "<a href=\"https://colab.research.google.com/github/Leegaeune/project/blob/main/1015_%EC%95%8C%EA%B3%A0%EB%A6%AC%EC%A6%98_20211054_%EC%9D%B4%EA%B0%80%EC%9D%80.ipynb\" target=\"_parent\"><img src=\"https://colab.research.google.com/assets/colab-badge.svg\" alt=\"Open In Colab\"/></a>"
      ]
    },
    {
      "cell_type": "code",
      "execution_count": null,
      "metadata": {
        "id": "smYTHp3qNqFd"
      },
      "outputs": [],
      "source": [
        "#4.1\n",
        "def factorial_recur(n):  # 축소 정복 기법; 하향식 접근\n",
        "    if n == 1:           # 기저 조건\n",
        "        return 1\n",
        "    else:\n",
        "        return n * factorial_recur(n - 1)  # 재귀 호출"
      ]
    },
    {
      "cell_type": "code",
      "source": [
        "#4.2\n",
        "def factorial_iter(n):\n",
        "    result = 1  # 결과를 저장할 변수 초기화\n",
        "    for k in range(1, n + 1):  # 1부터 n까지 반복\n",
        "        result *= k  # 현재 k를 result에 곱함\n",
        "    return result  # 최종 결과 반환"
      ],
      "metadata": {
        "id": "1sdTSx88QAw4"
      },
      "execution_count": null,
      "outputs": []
    },
    {
      "cell_type": "code",
      "source": [
        "#4.3\n",
        "def insertion_sort(A):\n",
        "    n = len(A)  # 리스트 A의 길이를 구함\n",
        "    for i in range(1, n):  # 인덱스 1부터 n-1까지 반복\n",
        "        key = A[i]  # 현재 정렬할 요소를 key에 저장\n",
        "        j = i - 1  # key의 왼쪽 인덱스 초기화\n",
        "        while j >= 0 and A[j] > key:  # A[j]가 key보다 큰 동안\n",
        "            A[j + 1] = A[j]  # A[j]를 오른쪽으로 이동\n",
        "            j = j - 1  # j를 왼쪽으로 이동\n",
        "        A[j + 1] = key  # key를 적절한 위치에 삽입\n",
        "        printStep(A, i)  # 현재 리스트 상태 출력\n",
        "def printStep(arr, val):\n",
        "  print(\" Step %2d = \" %val, end='')\n",
        "  print(arr)\n",
        "\n",
        "data = [ 5, 3, 8, 4, 9, 1, 6, 2, 7 ]\n",
        "print(\"Original : ”, data)\n",
        "insertion_sort(data)\n",
        "print(\"Insertion : ”, data)\n"
      ],
      "metadata": {
        "colab": {
          "base_uri": "https://localhost:8080/",
          "height": 110
        },
        "id": "MiO009vCQC_3",
        "outputId": "7a042dc5-9853-472a-b479-32b40c37c0fe"
      },
      "execution_count": null,
      "outputs": [
        {
          "output_type": "error",
          "ename": "SyntaxError",
          "evalue": "unterminated string literal (detected at line 17) (<ipython-input-2-832a31f37c08>, line 17)",
          "traceback": [
            "\u001b[0;36m  File \u001b[0;32m\"<ipython-input-2-832a31f37c08>\"\u001b[0;36m, line \u001b[0;32m17\u001b[0m\n\u001b[0;31m    print(\"Original : ”, data)\u001b[0m\n\u001b[0m          ^\u001b[0m\n\u001b[0;31mSyntaxError\u001b[0m\u001b[0;31m:\u001b[0m unterminated string literal (detected at line 17)\n"
          ]
        }
      ]
    }
  ]
}