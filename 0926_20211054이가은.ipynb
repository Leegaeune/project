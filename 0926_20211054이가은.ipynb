{
  "nbformat": 4,
  "nbformat_minor": 0,
  "metadata": {
    "colab": {
      "provenance": [],
      "authorship_tag": "ABX9TyOLOZxNz+bqyK9PLMz7WEJ3",
      "include_colab_link": true
    },
    "kernelspec": {
      "name": "python3",
      "display_name": "Python 3"
    },
    "language_info": {
      "name": "python"
    }
  },
  "cells": [
    {
      "cell_type": "markdown",
      "metadata": {
        "id": "view-in-github",
        "colab_type": "text"
      },
      "source": [
        "<a href=\"https://colab.research.google.com/github/Leegaeune/project/blob/main/0926_20211054%EC%9D%B4%EA%B0%80%EC%9D%80.ipynb\" target=\"_parent\"><img src=\"https://colab.research.google.com/assets/colab-badge.svg\" alt=\"Open In Colab\"/></a>"
      ]
    },
    {
      "cell_type": "code",
      "execution_count": null,
      "metadata": {
        "id": "9KfPlqs4r3SS",
        "outputId": "681f9fbf-00bc-42b0-954a-75fc00960842",
        "colab": {
          "base_uri": "https://localhost:8080/"
        }
      },
      "outputs": [
        {
          "output_type": "stream",
          "name": "stdout",
          "text": [
            "\n"
          ]
        }
      ],
      "source": [
        "#3장 복습\n",
        "#주석부분 함수 math(3장)\n",
        "#람다식(예약어)파라미터:몸체(수식)(인수)\n",
        "#함수정의 후 함수호출\n",
        "#함수정의 def<함수이름>(<형식>,<형식(파라미터)>,,,):\n",
        "                #<몸체>\n",
        "#프로시저(return 문이 없는 함수) ->동전, 온도, 9의 보수"
      ]
    },
    {
      "cell_type": "code",
      "source": [
        "#4장 제어구조\n",
        "#순차제어, 선택제어 if-else , 반복제어 while\n"
      ],
      "metadata": {
        "id": "60QE5KjEvHx_"
      },
      "execution_count": null,
      "outputs": []
    },
    {
      "cell_type": "code",
      "source": [
        "#3.1 -짝수\n",
        "def even(n):\n",
        "    return n % 2 == 0\n",
        "\n",
        "print(even(13)) # False\n",
        "print(even(26)) # True"
      ],
      "metadata": {
        "colab": {
          "base_uri": "https://localhost:8080/"
        },
        "id": "0jd2fAB339YI",
        "outputId": "19129eef-956a-42b8-bb45-0cbf8bdc5413"
      },
      "execution_count": null,
      "outputs": [
        {
          "output_type": "stream",
          "name": "stdout",
          "text": [
            "False\n",
            "True\n"
          ]
        }
      ]
    },
    {
      "cell_type": "code",
      "source": [
        "#3.2 - p.106(흐름도 그리기)\n",
        "score = int(input('Enter your score : '))\n",
        "if 90 <= score <= 100:\n",
        "  print('A')\n",
        "elif 80 <= score <= 89:\n",
        "  print('B')\n",
        "elif 70 <= score <= 79:\n",
        "  print('C')\n",
        "elif 60 <= score <= 69:\n",
        "  print('D')\n",
        "elif 0 <= score < 59:\n",
        "  print('F')\n",
        "else:\n",
        "  print('Your score is out of range.')"
      ],
      "metadata": {
        "colab": {
          "base_uri": "https://localhost:8080/"
        },
        "id": "NIx4tuaX5bU2",
        "outputId": "ad3fe706-8524-465d-931e-b9672ac6e60e"
      },
      "execution_count": null,
      "outputs": [
        {
          "output_type": "stream",
          "name": "stdout",
          "text": [
            "Enter your score : 77\n",
            "C\n"
          ]
        }
      ]
    },
    {
      "cell_type": "code",
      "source": [
        "#3.5-셋 중 가장 작은 함수 찾기\n",
        "def smallest(x,y,z):\n",
        "    if x < y:\n",
        "        if x < z:\n",
        "            return x\n",
        "        else:\n",
        "            return z\n",
        "    else:\n",
        "        if y < z:\n",
        "            return y\n",
        "        else:\n",
        "            return z\n",
        "print(smallest(3,5,9)) # returns 3\n",
        "print(smallest(5,3,9)) # returns 3\n",
        "print(smallest(5,9,3)) # returns 3\n",
        "print(smallest(3,9,5)) # returns 3\n",
        "print(smallest(9,3,5)) # returns 3\n",
        "print(smallest(9,5,3)) # returns 3\n",
        "print(smallest(3,3,5)) # returns 3\n",
        "print(smallest(5,3,3)) # returns 3\n",
        "print(smallest(3,5,3)) # returns 3\n",
        "print(smallest(3,3,3)) # returns 3\n"
      ],
      "metadata": {
        "colab": {
          "base_uri": "https://localhost:8080/"
        },
        "id": "hnsib9Gb8uzS",
        "outputId": "80bff272-fb9e-4d83-8819-578feb629737"
      },
      "execution_count": null,
      "outputs": [
        {
          "output_type": "stream",
          "name": "stdout",
          "text": [
            "3\n",
            "3\n",
            "3\n",
            "3\n",
            "3\n",
            "3\n",
            "3\n",
            "3\n",
            "3\n",
            "3\n"
          ]
        }
      ]
    },
    {
      "cell_type": "code",
      "source": [
        "#p.114 집에서 풀어보기"
      ],
      "metadata": {
        "id": "viDDCJ8B9O9B"
      },
      "execution_count": null,
      "outputs": []
    },
    {
      "cell_type": "code",
      "source": [
        "#3.7-수강과목 평균 점수 계산 서비스\n",
        "\n",
        "print(\"Score Average Calculator\")\n",
        "number = int(input(\"How many classes? \"))\n",
        "total = 0\n",
        "count = 0\n",
        "while count < int(number):\n",
        "     score = int(input(\"Enter your score: \"))\n",
        "     total += score\n",
        "     count += 1\n",
        "if count > 0:\n",
        "  print(\"Your average score =\", round(total/count,1))\n",
        "else:\n",
        "\n",
        "  print(\"Your average score = 0.0\")\n"
      ],
      "metadata": {
        "colab": {
          "base_uri": "https://localhost:8080/"
        },
        "id": "JsleWxz2Bkps",
        "outputId": "6534759d-58e0-4c38-e50f-2ba04ce452f1"
      },
      "execution_count": null,
      "outputs": [
        {
          "output_type": "stream",
          "name": "stdout",
          "text": [
            "Score Average Calculator\n",
            "How many classes? 5\n",
            "Enter your score: 86\n",
            "Enter your score: 92\n",
            "Enter your score: 94\n",
            "Enter your score: 82\n",
            "Enter your score: 79\n",
            "Your average score = 86.6\n"
          ]
        }
      ]
    },
    {
      "cell_type": "code",
      "source": [
        "8#\n",
        "print(\"Score Average Calculator\")\n",
        "number = input(\"How many classes? \")\n",
        "while not (number.isdigit() and int(number) > 0):\n",
        "     number = input(\"Enter a positive number: \")\n",
        "\n",
        "print(\"The number of classes =\", number)\n",
        "total = 0\n",
        "count = 0\n",
        "while count < int(number):\n",
        "    score = input(\"Enter your score: \")\n",
        "    while not (score.isdigit() and 0 <= int(score) <= 100):\n",
        "        score = input(\"Enter your score between 0 and 100: \")\n",
        "    print(\"Your score =\", score)\n",
        "    total = total + int(score)\n",
        "    count = count + 1\n",
        "\n",
        "if count > 0:\n",
        "    print(\"Your average score =\", round(total/count,1))\n",
        "else:\n",
        "    print(\"Your average score = 0.0\")"
      ],
      "metadata": {
        "colab": {
          "base_uri": "https://localhost:8080/"
        },
        "id": "rj_ix5hfGaen",
        "outputId": "55381bce-b77a-445c-a1f3-6882c5d55005"
      },
      "execution_count": null,
      "outputs": [
        {
          "output_type": "stream",
          "name": "stdout",
          "text": [
            "Score Average Calculator\n",
            "How many classes? 5\n",
            "The number of classes = 5\n",
            "Enter your score: 86\n",
            "Your score = 86\n",
            "Enter your score: 92\n",
            "Your score = 92\n",
            "Enter your score: 94\n",
            "Your score = 94\n",
            "Enter your score: 82\n",
            "Your score = 82\n",
            "Enter your score: 79\n",
            "Your score = 79\n",
            "Your average score = 86.6\n"
          ]
        }
      ]
    },
    {
      "cell_type": "code",
      "source": [
        "def isinteger(s):\n",
        "    return s.isdigit() or \\\n",
        "           s != '' and s[0] == '-' and s[1:].isdigit()\n",
        "def isfloat(s):\n",
        "    (num, dot, fraction) = s.partition('.')\n",
        "    return dot == '' and fraction == '' and isinteger(num) or \\\n",
        "           dot == '.' and \\\n",
        "           ((num == '' or num == '-') and fraction.isdigit() or \\\n",
        "            fraction == '' and isinteger(num) or \\\n",
        "            isinteger(num) and fraction.isdigit())\n",
        "\n",
        "print(isfloat(\".112\"))   # True\n",
        "print(isfloat(\"-.112\"))  # True\n",
        "print(isfloat(\"3.14\"))   # True\n",
        "print(isfloat(\"-3.14\"))  # True\n",
        "print(isfloat(\"5.\"))     # True\n",
        "print(isfloat(\"5.0\"))    # True\n",
        "print(isfloat(\"-777.0\")) # True\n",
        "print(isfloat(\"-777.\"))  # True\n",
        "print(isfloat(\".\"))      # False\n",
        "print(isfloat(\"..\"))     # False\n",
        "\n",
        "#130-149"
      ],
      "metadata": {
        "colab": {
          "base_uri": "https://localhost:8080/"
        },
        "id": "ETWOAQHDHJXY",
        "outputId": "4543c68f-1d6b-4fb3-c46b-41c91a25be45"
      },
      "execution_count": null,
      "outputs": [
        {
          "output_type": "stream",
          "name": "stdout",
          "text": [
            "True\n",
            "True\n",
            "True\n",
            "True\n",
            "True\n",
            "True\n",
            "True\n",
            "True\n",
            "False\n",
            "False\n"
          ]
        }
      ]
    }
  ]
}