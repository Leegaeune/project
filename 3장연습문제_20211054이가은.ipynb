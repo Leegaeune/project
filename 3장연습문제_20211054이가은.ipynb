{
  "nbformat": 4,
  "nbformat_minor": 0,
  "metadata": {
    "colab": {
      "provenance": []
    },
    "kernelspec": {
      "name": "python3",
      "display_name": "Python 3"
    },
    "language_info": {
      "name": "python"
    }
  },
  "cells": [
    {
      "cell_type": "code",
      "execution_count": null,
      "metadata": {
        "colab": {
          "base_uri": "https://localhost:8080/"
        },
        "id": "KNpEzuFt5pUF",
        "outputId": "ba51954a-219d-4067-ed99-e785940b6510"
      },
      "outputs": [
        {
          "output_type": "stream",
          "name": "stdout",
          "text": [
            "True\n",
            "False\n",
            "True\n",
            "False\n",
            "False\n",
            "True\n",
            "False\n",
            "True\n",
            "False\n",
            "True\n",
            "True\n",
            "False\n",
            "False\n",
            "True\n",
            "None\n"
          ]
        }
      ],
      "source": [
        "#3.1 연습문제 (윤년 확인 함수)\n",
        "\n",
        "def isleapyear(year):\n",
        "    if year >= 0:\n",
        "        return (year % 4 == 0 and year % 100 != 0) or (year % 400 == 0)\n",
        "    else:\n",
        "        return None\n",
        "\n",
        "\n",
        "print(isleapyear(0))      # True\n",
        "print(isleapyear(1))      # False\n",
        "print(isleapyear(4))      # True\n",
        "print(isleapyear(2010))   # False\n",
        "print(isleapyear(2011))   # False\n",
        "print(isleapyear(2012))   # True\n",
        "print(isleapyear(2013))   # False\n",
        "print(isleapyear(2016))   # True\n",
        "print(isleapyear(1900))   # False\n",
        "print(isleapyear(2000))   # True\n",
        "print(isleapyear(2020))   # True\n",
        "print(isleapyear(2100))   # False\n",
        "print(isleapyear(2200))   # False\n",
        "print(isleapyear(2400))   # True\n",
        "print(isleapyear(-2000))  # None\n",
        "\n",
        "\n",
        "\n"
      ]
    },
    {
      "cell_type": "code",
      "source": [
        "#3.2 (유효 날짜 검증 함수)\n",
        "\n",
        "def is_valid_date(year, month, day):\n",
        "    return year >= 0 and 1 <= month <= 12 and \\\n",
        "           (day >= 1 and day <= 31) and \\\n",
        "           (month != 2 or day <= 29) and \\\n",
        "           (month != 2 or day != 29 or (year % 4 == 0 and (year % 100 != 0 or year % 400 == 0))) and \\\n",
        "           (month in [1, 3, 5, 7, 8, 10, 12] or day <= 30)\n",
        "\n",
        "\n",
        "print(is_valid_date(2019, 11, 31))\n",
        "print(is_valid_date(2020, 2, 29))\n",
        "print(is_valid_date(2021, 2, 29))\n",
        "print(is_valid_date(2029, 4, 31))\n",
        "print(is_valid_date(2027, 5, 31))"
      ],
      "metadata": {
        "colab": {
          "base_uri": "https://localhost:8080/"
        },
        "id": "2YMI3mqV5qi2",
        "outputId": "f1483643-032b-41a7-f01f-94b58e5ea231"
      },
      "execution_count": null,
      "outputs": [
        {
          "output_type": "stream",
          "name": "stdout",
          "text": [
            "False\n",
            "True\n",
            "False\n",
            "False\n",
            "True\n"
          ]
        }
      ]
    },
    {
      "cell_type": "code",
      "source": [
        "#3.3 (주민등록번호 검증 함수)\n",
        "\n",
        "def is_valid_date(year, month, day):\n",
        "    return year >= 0 and 1 <= month <= 12 and \\\n",
        "           (day >= 1 and day <= 31) and \\\n",
        "           (month != 2 or day <= 29) and \\\n",
        "           (month != 2 or day != 29 or (year % 4 == 0 and (year % 100 != 0 or year % 400 == 0))) and \\\n",
        "           (month in [1, 3, 5, 7, 8, 10, 12] or day <= 30) #3.2 (유효 날짜 검증 함수) 사용\n",
        "\n",
        "def frontOK(s):\n",
        "    year = int(s[:2])\n",
        "    month = int(s[2:4])\n",
        "    day = int(s[4:6])\n",
        "    century = s[-1]\n",
        "    if century == 1 or century == 2 or century == 5 or century == 6:\n",
        "        year = year + 1900\n",
        "    elif century == 3 or century == 4 or century == 7 or century == 8:\n",
        "        year = year + 2000\n",
        "    elif century == 9 or century == 0:\n",
        "        year = year + 1800\n",
        "    return is_valid_date(year,month,day)\n",
        "\n",
        "def backOK(s):\n",
        "    a = int(s[0])\n",
        "    b = int(s[1])\n",
        "    c = int(s[2])\n",
        "    d = int(s[3])\n",
        "    e = int(s[4])\n",
        "    f = int(s[5])\n",
        "    g = int(s[7])\n",
        "    h = int(s[8])\n",
        "    i = int(s[9])\n",
        "    j = int(s[10])\n",
        "    k = int(s[11])\n",
        "    l = int(s[12])\n",
        "    m = 11 - ((2*a+3*b+4*c+5*d+6*e+7*f+8*g+9*h+2*i+3*j+4*k+5*l) % 11)\n",
        "    if m == 11 or m == 10:\n",
        "        m = m - 10\n",
        "    return m == int(s[13])\n",
        "\n",
        "def isRRN(s):\n",
        "    (front, mid, back) = s.partition(\"-\")\n",
        "    return frontOK(front+back[0]) and mid == \"-\" and backOK(s)\n",
        "\n",
        "print(isRRN(\"000000-0000000\")) # F\n",
        "print(isRRN(\"020819-4013119\")) # T\n",
        "print(isRRN(\"550101-1001928\")) # F"
      ],
      "metadata": {
        "colab": {
          "base_uri": "https://localhost:8080/"
        },
        "id": "A6iHLrNa5qng",
        "outputId": "77f542d9-373d-4f87-af21-bd18b2434a26"
      },
      "execution_count": null,
      "outputs": [
        {
          "output_type": "stream",
          "name": "stdout",
          "text": [
            "False\n",
            "True\n",
            "False\n"
          ]
        }
      ]
    },
    {
      "cell_type": "code",
      "source": [
        "#3.4 (셋 중 가운데 수 찾기 함수)\n",
        "\n",
        "def smaller(x,y):\n",
        "    if x <= y:\n",
        "        return x\n",
        "    else:\n",
        "        return y\n",
        "\n",
        "def smallest(x,y,z):\n",
        "    return smaller(smaller(x,y),z)\n",
        "# 앞서 작성한 Smaller, smallest 함수\n",
        "\n",
        "def median(x,y,z):\n",
        "    one = smallest(x,y,z)\n",
        "    if one == x:\n",
        "        return smaller(y,z)\n",
        "    elif one == y:\n",
        "        return smaller(x,z)\n",
        "    else:\n",
        "        return smaller(x,y)\n",
        "\n",
        "print(median(1,3,5)) # 3\n",
        "print(median(3,5,1)) # 3\n",
        "print(median(3,3,3)) # 3\n",
        "print(median(3,5,3)) # 3\n",
        "print(median(3,5,5)) # 5"
      ],
      "metadata": {
        "colab": {
          "base_uri": "https://localhost:8080/"
        },
        "id": "15x-Dc9a5qql",
        "outputId": "579b05e3-d5c4-46dd-f626-8074a0ec7eaa"
      },
      "execution_count": null,
      "outputs": [
        {
          "output_type": "stream",
          "name": "stdout",
          "text": [
            "3\n",
            "3\n",
            "3\n",
            "3\n",
            "5\n"
          ]
        }
      ]
    },
    {
      "cell_type": "code",
      "source": [
        "#3.5 (셋 중 가장 작은 홀수 찾기 함수)\n",
        "def even(x):\n",
        "    return x % 2 == 0\n",
        "\n",
        "def smaller_odd(x,y):\n",
        "    if even(x) and even(y):\n",
        "        return None\n",
        "    elif even(x):\n",
        "        return y\n",
        "    elif even(y):\n",
        "        return x\n",
        "    else:\n",
        "        if x <= y:\n",
        "            return x\n",
        "        else:\n",
        "            return y\n",
        "\n",
        "def smallest_odd(x,y,z):\n",
        "    smaller = smaller_odd(x,y)\n",
        "    if smaller == None:\n",
        "        if even(z):\n",
        "            return None\n",
        "        else:\n",
        "            return z\n",
        "    else:\n",
        "        return smaller_odd(smaller,z)\n",
        "\n",
        "\n",
        "print(smallest_odd(3,2,2))  # 3\n",
        "print(smallest_odd(3,5,7))  # 3\n",
        "print(smallest_odd(3,5,1))  # 1\n",
        "print(smallest_odd(8,3,4))  # 3\n",
        "print(smallest_odd(8,3,5))  # 3\n",
        "print(smallest_odd(8,5,3))  # 3\n",
        "print(smallest_odd(2,8,3))  # 3\n",
        "print(smallest_odd(2,8,4))  # None"
      ],
      "metadata": {
        "colab": {
          "base_uri": "https://localhost:8080/"
        },
        "id": "3PyBqopX8S-3",
        "outputId": "e0e01937-26f5-489c-da57-bded1fe3c35a"
      },
      "execution_count": null,
      "outputs": [
        {
          "output_type": "stream",
          "name": "stdout",
          "text": [
            "3\n",
            "3\n",
            "1\n",
            "3\n",
            "3\n",
            "3\n",
            "3\n",
            "None\n"
          ]
        }
      ]
    },
    {
      "cell_type": "code",
      "source": [
        "#3.6 (이차방정식 근 구하는 함수)\n",
        "import math\n",
        "\n",
        "from math import sqrt\n",
        "def quadratic_equation_positive(a,b,c):\n",
        "    if a != 0:\n",
        "        delta = b**2 - 4 * a * c\n",
        "        if delta > 0:\n",
        "            root = math.sqrt(delta)\n",
        "            return (-b + root) / 2 * a, (-b - root) / 2 * a\n",
        "        else:\n",
        "            return None\n",
        "    else:\n",
        "        return None\n",
        "\n",
        "print(quadratic_equation_positive(1,-1,-2))\n",
        "print(quadratic_equation_positive(3,3,3))\n",
        "print(quadratic_equation_positive(0,3,4))"
      ],
      "metadata": {
        "colab": {
          "base_uri": "https://localhost:8080/"
        },
        "id": "67mYAotG8Tjj",
        "outputId": "227124e8-61e2-4f17-a3ed-7dc58a0bf728"
      },
      "execution_count": null,
      "outputs": [
        {
          "output_type": "stream",
          "name": "stdout",
          "text": [
            "(2.0, -1.0)\n",
            "None\n",
            "None\n"
          ]
        }
      ]
    },
    {
      "cell_type": "code",
      "source": [
        "# 3.7 (수강과목 평균 점수 계산 서비스 - 과락제외)\n",
        "\n",
        "print(\"Score Average Calculator\")\n",
        "number = input(\"How many classes? \")\n",
        "while not (number.isdigit() and int(number) > 0):\n",
        "    number = input(\"Enter a positive number: \")\n",
        "print(\"The number of classes =\", number)\n",
        "total = 0\n",
        "passed = 0\n",
        "failed = 0\n",
        "while passed + failed < int(number):\n",
        "    score = input(\"Enter your score: \")\n",
        "    while not (score.isdigit() and 0 <= int(score) <= 100):\n",
        "        score = input(\"Enter your score between 0 and 100: \")\n",
        "    print(\"Your score =\", score)\n",
        "    if int(score) < 60:\n",
        "        failed = failed + 1\n",
        "    else:\n",
        "        total = total + int(score)\n",
        "        passed = passed + 1\n",
        "if passed > 0:\n",
        "    print(\"Your average score =\", round(total/passed,1))\n",
        "else:\n",
        "    print(\"Your average score = 0.0\")\n",
        "print(\"Failed =\", failed)\n",
        "\n",
        "\n",
        "# 책 개념 다시 확인"
      ],
      "metadata": {
        "colab": {
          "base_uri": "https://localhost:8080/"
        },
        "id": "Drs0dcJw8TnL",
        "outputId": "b86637aa-10a5-4aaf-85fa-7ba2849f27d8"
      },
      "execution_count": null,
      "outputs": [
        {
          "output_type": "stream",
          "name": "stdout",
          "text": [
            "Score Average Calculator\n",
            "How many classes? 5\n",
            "The number of classes = 5\n",
            "Enter your score: 92\n",
            "Your score = 92\n",
            "Enter your score: 78\n",
            "Your score = 78\n",
            "Enter your score: 54\n",
            "Your score = 54\n",
            "Enter your score: 88\n",
            "Your score = 88\n",
            "Enter your score: 64\n",
            "Your score = 64\n",
            "Your average score = 80.5\n",
            "Failed = 1\n"
          ]
        }
      ]
    },
    {
      "cell_type": "code",
      "source": [
        "#3.8 (24시간 시계 형식 확인)\n",
        "\n",
        "def validclock24(time):\n",
        "    (hour, colon, minute) = time.partition(\":\")\n",
        "    return len(hour) == 2 and len(minute) == 2 and \\\n",
        "           colon == \":\" and \\\n",
        "           0 <= int(hour) <= 23 and 0 <= int(minute) <= 59 or \\\n",
        "           int(hour) == 24 and int(minute) == 0\n",
        "\n",
        "# Test code\n",
        "print(validclock24(\"00:00\"))  # True\n",
        "print(validclock24(\"00:30\"))  # True\n",
        "print(validclock24(\"09:58\"))  # True\n",
        "print(validclock24(\"12:15\"))  # True\n",
        "print(validclock24(\"23:59\"))  # True\n",
        "print(validclock24(\"24:00\"))  # True\n",
        "print(validclock24(\"7:07\"))   # False\n",
        "print(validclock24(\"07:121\")) # False\n",
        "print(validclock24(\"13:4\"))   # False\n",
        "print(validclock24(\"00:60\"))  # False\n",
        "print(validclock24(\"24:01\"))  # False\n",
        "print(validclock24(\"25:10\"))  # False"
      ],
      "metadata": {
        "colab": {
          "base_uri": "https://localhost:8080/"
        },
        "id": "b3_6zQac8TqC",
        "outputId": "c609f75f-859f-455b-84a1-3271b3dfd400"
      },
      "execution_count": null,
      "outputs": [
        {
          "output_type": "stream",
          "name": "stdout",
          "text": [
            "True\n",
            "True\n",
            "True\n",
            "True\n",
            "True\n",
            "True\n",
            "False\n",
            "False\n",
            "False\n",
            "False\n",
            "False\n",
            "False\n"
          ]
        }
      ]
    },
    {
      "cell_type": "code",
      "source": [
        "#3.9 (12시간 시계 형식 확인)\n",
        "\n",
        "def validclock12(time):\n",
        "    (hour, colon, minuteplus) = time.partition(\":\")\n",
        "    minute = minuteplus[:-2]\n",
        "    am_or_pm = minuteplus[-2:]\n",
        "    return (len(hour) == 1 and 1 <= int(hour) <= 9 or \\\n",
        "            len(hour) == 2 and 10 <= int(hour) <= 12) and \\\n",
        "           colon == \":\" and \\\n",
        "           len(minute) == 2 and 0 <= int(minute) <= 59 and \\\n",
        "           (am_or_pm == \"am\" or am_or_pm == \"pm\")\n",
        "\n",
        "\n",
        "print(validclock12(\"1:30am\"))  # True\n",
        "print(validclock12(\"9:12pm\"))  # True\n",
        "print(validclock12(\"3:05am\"))  # True\n",
        "print(validclock12(\"10:14pm\")) # True\n",
        "print(validclock12(\"11:59pm\")) # True\n",
        "print(validclock12(\"12:00am\")) # True\n",
        "print(validclock12(\"12:00pm\")) # True\n",
        "print(validclock12(\"0:15am\"))  # False\n",
        "print(validclock12(\"09:18pm\")) # False\n",
        "print(validclock12(\"3:5am\"))   # False\n",
        "print(validclock12(\"00:00pm\")) # False\n",
        "print(validclock12(\"5:60am\"))  # False"
      ],
      "metadata": {
        "colab": {
          "base_uri": "https://localhost:8080/"
        },
        "id": "1RAuYmeI9woK",
        "outputId": "b1ee6a70-e7f3-4a7c-cdc6-0645ba0e9a77"
      },
      "execution_count": null,
      "outputs": [
        {
          "output_type": "stream",
          "name": "stdout",
          "text": [
            "True\n",
            "True\n",
            "True\n",
            "True\n",
            "True\n",
            "True\n",
            "True\n",
            "False\n",
            "False\n",
            "False\n",
            "False\n",
            "False\n"
          ]
        }
      ]
    },
    {
      "cell_type": "code",
      "source": [
        "#3.10 (24시간 시계를 12시간 시계로 변환)\n",
        "\n",
        "def clock24to12(time):\n",
        "    (hour, colon, minute) = time.partition(\":\")\n",
        "    if int(hour) == 0 or int(hour) == 24:\n",
        "        return \"12\" + colon + minute + \"am\"\n",
        "    elif int(hour) < 12:\n",
        "        return hour + colon + minute + \"am\"\n",
        "    elif int(hour) == 12:\n",
        "        return hour + colon + minute + \"pm\"\n",
        "    else:\n",
        "        return str(int(hour)-12) + colon + minute + \"pm\"\n",
        "\n",
        "\n",
        "print(clock24to12(\"00:00\")) # \"12:00am\"\n",
        "print(clock24to12(\"00:05\")) # \"12:05am\"\n",
        "print(clock24to12(\"09:58\")) # \"9:58am\"\n",
        "print(clock24to12(\"11:43\")) # \"11:43am\"\n",
        "print(clock24to12(\"12:08\")) # \"12:08pm\"\n",
        "print(clock24to12(\"15:50\")) # \"3:50pm\"\n",
        "print(clock24to12(\"20:20\")) # \"8:20pm\"\n",
        "print(clock24to12(\"24:00\")) # \"12:00am\""
      ],
      "metadata": {
        "colab": {
          "base_uri": "https://localhost:8080/"
        },
        "id": "aihwe3Jr9w0H",
        "outputId": "38fc1430-c24f-441c-f209-d8afe21d966b"
      },
      "execution_count": null,
      "outputs": [
        {
          "output_type": "stream",
          "name": "stdout",
          "text": [
            "12:00am\n",
            "12:05am\n",
            "09:58am\n",
            "11:43am\n",
            "12:08pm\n",
            "3:50pm\n",
            "8:20pm\n",
            "12:00am\n"
          ]
        }
      ]
    },
    {
      "cell_type": "code",
      "source": [
        "#3.11 (12시간 시계를 24시간 시계로 변환)\n",
        "\n",
        "def clock12to24(time):\n",
        "    (hour, colon, minuteplus) = time.partition(\":\")\n",
        "    minute = minuteplus[:-2]\n",
        "    am_or_pm = minuteplus[-2:]\n",
        "    if am_or_pm == \"am\" and hour == \"12\":\n",
        "        hour = \"00\"\n",
        "    elif am_or_pm == \"pm\" and hour == \"12\":\n",
        "        hour = \"12\"\n",
        "    elif am_or_pm == \"pm\":\n",
        "        hour = str(int(hour)+12)\n",
        "    if len(hour) < 2:\n",
        "        hour = \"0\" + hour\n",
        "    return hour + colon + minute\n",
        "\n",
        "\n",
        "print(clock12to24(\"12:00am\")) # \"00:00\"\n",
        "print(clock12to24(\"12:05am\")) # \"00:05\"\n",
        "print(clock12to24(\"1:30am\"))  # \"01:30\"\n",
        "print(clock12to24(\"3:05am\"))  # \"03:05\"\n",
        "print(clock12to24(\"12:00pm\")) # \"12:00\"\n",
        "print(clock12to24(\"12:08pm\")) # \"12:08\"\n",
        "print(clock12to24(\"3:50pm\"))  # \"15:50\"\n",
        "print(clock12to24(\"9:12pm\"))  # \"21:12\"\n",
        "print(clock12to24(\"11:59pm\")) # \"23:59\""
      ],
      "metadata": {
        "colab": {
          "base_uri": "https://localhost:8080/"
        },
        "id": "LpDMZJHu-o1U",
        "outputId": "1c47d44e-896d-4894-a9c6-c5d327b897f5"
      },
      "execution_count": null,
      "outputs": [
        {
          "output_type": "stream",
          "name": "stdout",
          "text": [
            "00:00\n",
            "00:05\n",
            "01:30\n",
            "03:05\n",
            "12:00\n",
            "12:08\n",
            "15:50\n",
            "21:12\n",
            "23:59\n"
          ]
        }
      ]
    },
    {
      "cell_type": "code",
      "source": [
        "#3.12 (종료 시간 계산하기)\n",
        "\n",
        "def minutes_after(time, minuteplus):\n",
        "    (hour,colon,minute) = time.partition(\":\")\n",
        "    hourplus = minuteplus // 60\n",
        "    minuteplus = minuteplus % 60\n",
        "    hour = int(hour) + hourplus\n",
        "    minute = int(minute) + minuteplus\n",
        "    if minute > 59:\n",
        "        hour += 1\n",
        "        minute -= 60\n",
        "    return str(hour) + \":\" + str(minute)\n",
        "\n",
        "\n",
        "print(minutes_after(\"3:34\",100))\n",
        "print(minutes_after(\"11:45\",20))\n",
        "print(minutes_after(\"9:59\",1))\n",
        "print(minutes_after(\"123:10\",200))"
      ],
      "metadata": {
        "colab": {
          "base_uri": "https://localhost:8080/"
        },
        "id": "2AuTX6NE-5qb",
        "outputId": "30683712-c611-458c-e06c-d68b8f07a11b"
      },
      "execution_count": null,
      "outputs": [
        {
          "output_type": "stream",
          "name": "stdout",
          "text": [
            "5:14\n",
            "12:5\n",
            "10:0\n",
            "126:30\n"
          ]
        }
      ]
    },
    {
      "cell_type": "code",
      "source": [
        "#3.13 (소요 시간 계산하기)\n",
        "\n",
        "def time_passed(fromTime, toTime):\n",
        "    (hour1 ,colon ,minute1) = fromTime.partition(\":\")\n",
        "    (hour2 ,colon ,minute2) = toTime.partition(\":\")\n",
        "    hour = int(hour2) - int(hour1)\n",
        "    if minute1 > minute2:\n",
        "        hour -= 1\n",
        "        minute = int(minute2) + 60 - int(minute1)\n",
        "    else:\n",
        "        minute = int(minute2) - int(minute1)\n",
        "    return str(hour) + \":\" + str(minute)\n",
        "\n",
        "print(time_passed(\"03:12\",\"03:25\"))\n",
        "print(time_passed(\"11:45\",\"13:15\"))\n",
        "print(time_passed(\"06:15\",\"07:45\"))\n",
        "print(time_passed(\"03:34\",\"05:00\"))"
      ],
      "metadata": {
        "colab": {
          "base_uri": "https://localhost:8080/"
        },
        "id": "35pvX7Fx-52I",
        "outputId": "32a7bb9d-9ac5-426c-c15b-d076dd56e816"
      },
      "execution_count": null,
      "outputs": [
        {
          "output_type": "stream",
          "name": "stdout",
          "text": [
            "0:13\n",
            "1:30\n",
            "1:30\n",
            "1:26\n"
          ]
        }
      ]
    },
    {
      "cell_type": "code",
      "source": [
        "#3.14 (시간 더하기)\n",
        "\n",
        "def addtime(time1, time2):\n",
        "    (hour1,colon, time1) = time1.partition(\":\")\n",
        "    (minute1,colon, second1) = time1.partition(\":\")\n",
        "    (hour2, colon, time2) = time2.partition(\":\")\n",
        "    (minute2, colon, second2) = time2.partition(\":\")\n",
        "\n",
        "    second = int(second1) + int(second2)\n",
        "    minute = int(minute1) + int(minute2)\n",
        "    hour = int(hour1) + int(hour2)\n",
        "\n",
        "    if second >= 60:\n",
        "        second -= 60\n",
        "        minute += 1\n",
        "\n",
        "    if minute >= 60:\n",
        "        minute -= 60\n",
        "        hour += 1\n",
        "\n",
        "    hour = str(hour)\n",
        "    minute = str(minute).zfill(2)\n",
        "    second = str(second).zfill(2)\n",
        "\n",
        "    return hour + \":\" + minute + \":\" + second\n",
        "\n",
        "print(addtime(\"0:14:57\", \"0:25:02\"))\n",
        "print(addtime(\"0:14:57\", \"0:51:01\"))\n",
        "print(addtime(\"0:14:57\", \"0:51:18\"))\n",
        "print(addtime(\"9:43:57\", \"8:51:45\"))"
      ],
      "metadata": {
        "colab": {
          "base_uri": "https://localhost:8080/"
        },
        "id": "zQM96Nvt_DVK",
        "outputId": "10b384e1-f927-4ecb-f44f-b6af907ba53b"
      },
      "execution_count": null,
      "outputs": [
        {
          "output_type": "stream",
          "name": "stdout",
          "text": [
            "0:39:59\n",
            "1:05:58\n",
            "1:06:15\n",
            "18:35:42\n"
          ]
        }
      ]
    },
    {
      "cell_type": "code",
      "source": [
        "#3.15 (이진수 시프트(좌우로 밀기) 연산 )\n",
        "def shift(ds,move):\n",
        "    if move < 0:\n",
        "        if len(ds) > abs(move):\n",
        "            return ds[:move]\n",
        "        else:\n",
        "            return \"0\"\n",
        "    else:\n",
        "        return ds + \"0\" * move\n",
        "\n",
        "print(shift(\"11011\",3)) # 11011000\n",
        "print(shift(\"11011\",2)) # 1101100\n",
        "print(shift(\"11011\",1)) # 110110\n",
        "print(shift(\"11011\",0)) # 11011\n",
        "print(shift(\"11011\",-1)) # 1101\n",
        "print(shift(\"11011\",-2)) # 110\n",
        "print(shift(\"11011\",-3)) # 11\n",
        "print(shift(\"11011\",-4)) # 1\n",
        "print(shift(\"11011\",-5)) # 0\n",
        "print(shift(\"11011\",-6)) # 0\n"
      ],
      "metadata": {
        "colab": {
          "base_uri": "https://localhost:8080/"
        },
        "id": "h2x64mvl_Iab",
        "outputId": "69ac2ecb-faee-4217-b1d8-f145007f6490"
      },
      "execution_count": null,
      "outputs": [
        {
          "output_type": "stream",
          "name": "stdout",
          "text": [
            "11011000\n",
            "1101100\n",
            "110110\n",
            "11011\n",
            "1101\n",
            "110\n",
            "11\n",
            "1\n",
            "0\n",
            "0\n"
          ]
        }
      ]
    }
  ]
}